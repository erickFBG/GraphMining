{
  "nbformat": 4,
  "nbformat_minor": 0,
  "metadata": {
    "colab": {
      "name": "AAP2GM.ipynb",
      "provenance": [],
      "collapsed_sections": [
        "r5jVpLha4bho",
        "eH5Mj_JV-Txp"
      ]
    },
    "kernelspec": {
      "name": "python3",
      "display_name": "Python 3"
    },
    "language_info": {
      "name": "python"
    }
  },
  "cells": [
    {
      "cell_type": "markdown",
      "metadata": {
        "id": "G_--4ybNr5av"
      },
      "source": [
        "## Graph mining\n",
        "\n",
        "Realizado por: Erick França, Gabriel Borba, Henrique Kalke e Rodrigo Roth"
      ]
    },
    {
      "cell_type": "code",
      "metadata": {
        "id": "QY2OAMT0Lj7e"
      },
      "source": [
        "!pip install cdlib"
      ],
      "execution_count": null,
      "outputs": []
    },
    {
      "cell_type": "code",
      "metadata": {
        "id": "8v3vRKV-PcPV"
      },
      "source": [
        "import networkx as nx\n",
        "import matplotlib.pyplot as plt\n",
        "from matplotlib.pyplot import figure\n",
        "import pandas as pd\n",
        "import numpy as np\n",
        "import heapq \n",
        "import networkx.algorithms.link_prediction as link_prediction\n",
        "from cdlib import algorithms, viz"
      ],
      "execution_count": null,
      "outputs": []
    },
    {
      "cell_type": "code",
      "metadata": {
        "id": "S2VLhp6SPt7D"
      },
      "source": [
        "data1 = pd.read_csv(\"got-s1-edges.csv\", delimiter=\";\")\n",
        "G1 = nx.from_pandas_edgelist(data1, source='Source', target='Target', edge_attr='Weight')\n",
        "pos1 = nx.spring_layout(G1)"
      ],
      "execution_count": null,
      "outputs": []
    },
    {
      "cell_type": "code",
      "metadata": {
        "colab": {
          "base_uri": "https://localhost:8080/",
          "height": 206
        },
        "id": "X04tfUQDTgXB",
        "outputId": "efdc172c-67ea-42e1-a4e9-f68ecda10208"
      },
      "source": [
        "data1.head()"
      ],
      "execution_count": null,
      "outputs": [
        {
          "output_type": "execute_result",
          "data": {
            "text/html": [
              "<div>\n",
              "<style scoped>\n",
              "    .dataframe tbody tr th:only-of-type {\n",
              "        vertical-align: middle;\n",
              "    }\n",
              "\n",
              "    .dataframe tbody tr th {\n",
              "        vertical-align: top;\n",
              "    }\n",
              "\n",
              "    .dataframe thead th {\n",
              "        text-align: right;\n",
              "    }\n",
              "</style>\n",
              "<table border=\"1\" class=\"dataframe\">\n",
              "  <thead>\n",
              "    <tr style=\"text-align: right;\">\n",
              "      <th></th>\n",
              "      <th>Source</th>\n",
              "      <th>Target</th>\n",
              "      <th>Weight</th>\n",
              "    </tr>\n",
              "  </thead>\n",
              "  <tbody>\n",
              "    <tr>\n",
              "      <th>0</th>\n",
              "      <td>NED</td>\n",
              "      <td>ROBERT</td>\n",
              "      <td>192</td>\n",
              "    </tr>\n",
              "    <tr>\n",
              "      <th>1</th>\n",
              "      <td>DAENERYS</td>\n",
              "      <td>JORAH</td>\n",
              "      <td>154</td>\n",
              "    </tr>\n",
              "    <tr>\n",
              "      <th>2</th>\n",
              "      <td>JON</td>\n",
              "      <td>SAM</td>\n",
              "      <td>121</td>\n",
              "    </tr>\n",
              "    <tr>\n",
              "      <th>3</th>\n",
              "      <td>LITTLEFINGER</td>\n",
              "      <td>NED</td>\n",
              "      <td>107</td>\n",
              "    </tr>\n",
              "    <tr>\n",
              "      <th>4</th>\n",
              "      <td>NED</td>\n",
              "      <td>VARYS</td>\n",
              "      <td>96</td>\n",
              "    </tr>\n",
              "  </tbody>\n",
              "</table>\n",
              "</div>"
            ],
            "text/plain": [
              "         Source  Target  Weight\n",
              "0           NED  ROBERT     192\n",
              "1      DAENERYS   JORAH     154\n",
              "2           JON     SAM     121\n",
              "3  LITTLEFINGER     NED     107\n",
              "4           NED   VARYS      96"
            ]
          },
          "metadata": {},
          "execution_count": 427
        }
      ]
    },
    {
      "cell_type": "code",
      "metadata": {
        "id": "vwTEAlB7Pt0a"
      },
      "source": [
        "data2 = pd.read_csv(\"got-s8-edges.csv\", delimiter=\";\")\n",
        "G8 = nx.from_pandas_edgelist(data2, source='Source', target='Target', edge_attr='Weight')\n",
        "pos2 = nx.spring_layout(G8)"
      ],
      "execution_count": null,
      "outputs": []
    },
    {
      "cell_type": "code",
      "metadata": {
        "colab": {
          "base_uri": "https://localhost:8080/",
          "height": 206
        },
        "id": "Gt_aYF-mPtw0",
        "outputId": "ca12ba05-eae0-45f3-94af-0d9f4d105634"
      },
      "source": [
        "data2.head()"
      ],
      "execution_count": null,
      "outputs": [
        {
          "output_type": "execute_result",
          "data": {
            "text/html": [
              "<div>\n",
              "<style scoped>\n",
              "    .dataframe tbody tr th:only-of-type {\n",
              "        vertical-align: middle;\n",
              "    }\n",
              "\n",
              "    .dataframe tbody tr th {\n",
              "        vertical-align: top;\n",
              "    }\n",
              "\n",
              "    .dataframe thead th {\n",
              "        text-align: right;\n",
              "    }\n",
              "</style>\n",
              "<table border=\"1\" class=\"dataframe\">\n",
              "  <thead>\n",
              "    <tr style=\"text-align: right;\">\n",
              "      <th></th>\n",
              "      <th>Source</th>\n",
              "      <th>Target</th>\n",
              "      <th>Weight</th>\n",
              "    </tr>\n",
              "  </thead>\n",
              "  <tbody>\n",
              "    <tr>\n",
              "      <th>0</th>\n",
              "      <td>DAENERYS</td>\n",
              "      <td>JON</td>\n",
              "      <td>194</td>\n",
              "    </tr>\n",
              "    <tr>\n",
              "      <th>1</th>\n",
              "      <td>DAENERYS</td>\n",
              "      <td>TYRION</td>\n",
              "      <td>122</td>\n",
              "    </tr>\n",
              "    <tr>\n",
              "      <th>2</th>\n",
              "      <td>JAIME</td>\n",
              "      <td>TYRION</td>\n",
              "      <td>122</td>\n",
              "    </tr>\n",
              "    <tr>\n",
              "      <th>3</th>\n",
              "      <td>BRIENNE</td>\n",
              "      <td>JAIME</td>\n",
              "      <td>121</td>\n",
              "    </tr>\n",
              "    <tr>\n",
              "      <th>4</th>\n",
              "      <td>JON</td>\n",
              "      <td>TYRION</td>\n",
              "      <td>116</td>\n",
              "    </tr>\n",
              "  </tbody>\n",
              "</table>\n",
              "</div>"
            ],
            "text/plain": [
              "     Source  Target  Weight\n",
              "0  DAENERYS     JON     194\n",
              "1  DAENERYS  TYRION     122\n",
              "2     JAIME  TYRION     122\n",
              "3   BRIENNE   JAIME     121\n",
              "4       JON  TYRION     116"
            ]
          },
          "metadata": {},
          "execution_count": 429
        }
      ]
    },
    {
      "cell_type": "code",
      "metadata": {
        "colab": {
          "base_uri": "https://localhost:8080/",
          "height": 427
        },
        "id": "YIzUKzvxUbka",
        "outputId": "45833623-b83c-4987-fb4d-5215af65336e"
      },
      "source": [
        "plt.figure(figsize=(12,7))\n",
        "plt.title('Grafo Temporada 1')\n",
        "nx.draw(G1)"
      ],
      "execution_count": null,
      "outputs": [
        {
          "output_type": "display_data",
          "data": {
            "image/png": "[encoded data removed]",
            "text/plain": [
              "<Figure size 864x504 with 1 Axes>"
            ]
          },
          "metadata": {}
        }
      ]
    },
    {
      "cell_type": "code",
      "metadata": {
        "colab": {
          "base_uri": "https://localhost:8080/",
          "height": 427
        },
        "id": "Vra-JUjUUbhs",
        "outputId": "0037ec23-1bb2-407b-bc46-bba6319c1fc7"
      },
      "source": [
        "plt.figure(figsize=(12,7))\n",
        "plt.title('Grafo Temporada 8')\n",
        "nx.draw(G8)"
      ],
      "execution_count": null,
      "outputs": [
        {
          "output_type": "display_data",
          "data": {
            "image/png": "[encoded data removed]",
            "text/plain": [
              "<Figure size 864x504 with 1 Axes>"
            ]
          },
          "metadata": {}
        }
      ]
    },
    {
      "cell_type": "code",
      "metadata": {
        "colab": {
          "base_uri": "https://localhost:8080/"
        },
        "id": "OQ0ClNKtvwf_",
        "outputId": "24b49521-3d7b-44ae-cb9b-311a76b402af"
      },
      "source": [
        "G1.degree()"
      ],
      "execution_count": null,
      "outputs": [
        {
          "output_type": "execute_result",
          "data": {
            "text/plain": [
              "DegreeView({'NED': 57, 'ROBERT': 36, 'DAENERYS': 18, 'JORAH': 15, 'JON': 26, 'SAM': 12, 'LITTLEFINGER': 26, 'VARYS': 21, 'DROGO': 13, 'ARYA': 28, 'CATELYN': 36, 'ROBB': 30, 'BRONN': 12, 'TYRION': 41, 'CERSEI': 29, 'SHAE': 3, 'JOFFREY': 27, 'SANSA': 26, 'PYCELLE': 16, 'VISERYS': 9, 'SEPTA_MORDANE': 6, 'TYWIN': 17, 'JEOR': 16, 'THEON': 19, 'BRAN': 20, 'MAESTER_LUWIN': 10, 'JAIME': 24, 'LORAS': 8, 'RENLY': 17, 'MIRRI_MAZ_DUUR': 5, 'SYRIO_FOREL': 3, 'JORY_CASSEL': 8, 'PYP': 16, 'ROS': 9, 'GRENN': 8, 'WALDER': 8, 'DOREAH': 8, 'BENJEN': 9, 'IRRI': 7, 'GREATJON_UMBER': 12, 'MORD': 7, 'LYSA': 7, 'RAKHARO': 8, 'ROBIN': 7, 'OSHA': 6, 'RODRIK': 13, 'QOTHO': 5, 'MAESTER_AEMON': 9, 'BARRISTAN': 11, 'ILLYRIO': 6, 'SHAGGA': 4, 'YOREN': 16, 'ALLISER_THORNE': 8, 'WINE_MERCHANT': 4, 'HOUND': 18, 'LANCEL': 5, 'RICKON': 3, 'MARILLION': 7, 'KEVAN': 7, 'VARDIS_EGEN': 6, 'RHAEGO': 4, 'JANOS': 5, 'GENDRY': 6, 'HOT_PIE': 3, 'LOMMY_GREENHANDS': 2, 'MERYN_TRANT': 9, 'JON_ARRYN': 11, 'HODOR': 5, 'STANNIS': 9, 'MAGO': 2, 'MYCAH': 4, 'TOBHO_MOTT': 2, 'RAST': 7, 'OLD_NAN': 3, 'MHAEGEN': 3, 'AERYS': 13, 'BAELOR': 9, 'DAREON': 10, 'STABLE_BOY': 1, 'HUGH_OF_THE_VALE': 6, 'OTHELL_YARWYCK': 6, 'OTHOR': 4, 'MOUNTAIN': 7, 'TOMARD': 3, 'GARED': 2, 'ROYCE': 2, 'JONOS_BRACKEN': 2, 'MASHA_HEDDLE': 2, 'RICKARD_STARK': 4, 'ILYN_PAYNE': 10, 'WILL': 8, 'LYANNA': 3, 'RYGER_RIVERS': 1, 'STEVRON_FREY': 2, 'WAYMAR_ROYCE': 1, 'ADDAM_MARBRAND': 3, 'LEO_LEFFORD': 3, 'RHAEGAR': 2, 'ASSASSIN': 3, 'BALON': 2, 'BERIC': 2, 'BRANDON_STARK': 5, 'HOSTER': 2, 'COHOLLO': 1, 'JHIQUI': 3, 'MYRCELLA': 1, 'AEGON': 2, 'BORCAS': 2, 'BOWEN_MARSH': 2, 'LUKE': 2, 'IROGENIA': 1, 'GALBART_GLOVER': 3, 'RICKARD_KARSTARK': 3, 'HIGH_SEPTON': 1, 'TYSHA': 2, 'JAREMY_RYKKER': 3, 'JOANNA': 1, 'TOMMEN': 2, 'LITTLE_BIRD': 1, 'JOYEUSE': 1, 'MACE': 1, 'MELESSA': 1, 'ROOSE_BOLTON': 1, 'STEFFON': 1, 'VARLY': 1, 'RANDYLL': 1})"
            ]
          },
          "metadata": {},
          "execution_count": 432
        }
      ]
    },
    {
      "cell_type": "markdown",
      "metadata": {
        "id": "r5jVpLha4bho"
      },
      "source": [
        "#Tarefa 1, temporada 1"
      ]
    },
    {
      "cell_type": "code",
      "metadata": {
        "id": "MdB19s68vwNo"
      },
      "source": [
        "grau_G = dict(Grafo_temporada1.degree())\n",
        "grau_G = list(grau_G.values())\n",
        "grau_medio_G = np.mean(grau_G)"
      ],
      "execution_count": null,
      "outputs": []
    },
    {
      "cell_type": "code",
      "metadata": {
        "colab": {
          "base_uri": "https://localhost:8080/",
          "height": 330
        },
        "id": "mN9iV5rwUbaZ",
        "outputId": "7c62f258-1d49-4b3b-bf0d-d9a75776229d"
      },
      "source": [
        "plt.hist(grau_G)\n",
        "plt.title('Distribuição de graus do grafo 1')\n",
        "plt.xlabel('Grau')\n",
        "plt.ylabel('Quantidade')\n",
        "figure(figsize=(10, 5), dpi=100)"
      ],
      "execution_count": null,
      "outputs": [
        {
          "output_type": "execute_result",
          "data": {
            "text/plain": [
              "<Figure size 1000x500 with 0 Axes>"
            ]
          },
          "metadata": {},
          "execution_count": 434
        },
        {
          "output_type": "display_data",
          "data": {
            "image/png": "[encoded data removed]",
            "text/plain": [
              "<Figure size 432x288 with 1 Axes>"
            ]
          },
          "metadata": {
            "needs_background": "light"
          }
        },
        {
          "output_type": "display_data",
          "data": {
            "text/plain": [
              "<Figure size 1000x500 with 0 Axes>"
            ]
          },
          "metadata": {}
        }
      ]
    },
    {
      "cell_type": "code",
      "metadata": {
        "colab": {
          "base_uri": "https://localhost:8080/"
        },
        "id": "ThJBGWS5-DNm",
        "outputId": "6d15362c-dd4c-4700-e024-fa4ff2a67ed3"
      },
      "source": [
        "print(\"Grau médio da rede :\", grau_medio_G)"
      ],
      "execution_count": null,
      "outputs": [
        {
          "output_type": "stream",
          "name": "stdout",
          "text": [
            "Grau médio da rede : 8.714285714285714\n"
          ]
        }
      ]
    },
    {
      "cell_type": "code",
      "metadata": {
        "colab": {
          "base_uri": "https://localhost:8080/"
        },
        "id": "cGZgSmEA1--v",
        "outputId": "46c5e0dc-0265-4cd8-c5c4-3affcf4b9f29"
      },
      "source": [
        "print('Densidade do grafo G:'\n",
        "      , nx.density(Grafo_temporada1))"
      ],
      "execution_count": null,
      "outputs": [
        {
          "output_type": "stream",
          "name": "stdout",
          "text": [
            "Densidade do grafo G: 0.06971428571428571\n"
          ]
        }
      ]
    },
    {
      "cell_type": "code",
      "metadata": {
        "colab": {
          "base_uri": "https://localhost:8080/"
        },
        "id": "5_iWp0vA4Pe9",
        "outputId": "a29203e4-7f63-4c2c-9fc7-7469d14aba4b"
      },
      "source": [
        "G=nx.complete_graph(5)\n",
        "print('Transitividade do grafo G:'\n",
        "       , nx.transitivity(Grafo_temporada1))"
      ],
      "execution_count": null,
      "outputs": [
        {
          "output_type": "stream",
          "name": "stdout",
          "text": [
            "Transitividade do grafo G: 0.38325183374083127\n"
          ]
        }
      ]
    },
    {
      "cell_type": "markdown",
      "metadata": {
        "id": "eH5Mj_JV-Txp"
      },
      "source": [
        "#Tarefa 1, temporada 8"
      ]
    },
    {
      "cell_type": "code",
      "metadata": {
        "id": "rBfi-8as-Z0x"
      },
      "source": [
        "grau_G8 = dict(G8.degree())\n",
        "grau_G8 = list(grau_G8.values())\n",
        "grau_medio_G8 = np.mean(grau_G8)"
      ],
      "execution_count": null,
      "outputs": []
    },
    {
      "cell_type": "code",
      "metadata": {
        "colab": {
          "base_uri": "https://localhost:8080/",
          "height": 330
        },
        "id": "MA58RNcM-Zfj",
        "outputId": "e5e7e91c-1787-4691-d42d-00e6c5fe132e"
      },
      "source": [
        "plt.hist(grau_G8)\n",
        "plt.title('Distribuição de graus do grafo 2')\n",
        "plt.xlabel('Grau')\n",
        "plt.ylabel('Quantidade')\n",
        "figure(figsize=(10, 5), dpi=100)"
      ],
      "execution_count": null,
      "outputs": [
        {
          "output_type": "execute_result",
          "data": {
            "text/plain": [
              "<Figure size 1000x500 with 0 Axes>"
            ]
          },
          "metadata": {},
          "execution_count": 439
        },
        {
          "output_type": "display_data",
          "data": {
            "image/png": "[encoded data removed]",
            "text/plain": [
              "<Figure size 432x288 with 1 Axes>"
            ]
          },
          "metadata": {
            "needs_background": "light"
          }
        },
        {
          "output_type": "display_data",
          "data": {
            "text/plain": [
              "<Figure size 1000x500 with 0 Axes>"
            ]
          },
          "metadata": {}
        }
      ]
    },
    {
      "cell_type": "code",
      "metadata": {
        "colab": {
          "base_uri": "https://localhost:8080/"
        },
        "id": "EDDZnvQI-ZbW",
        "outputId": "ad2ed16e-25bf-4ab3-e7c0-3335a3142fa9"
      },
      "source": [
        "print(\"Grau médio da rede :\", grau_medio_G8)"
      ],
      "execution_count": null,
      "outputs": [
        {
          "output_type": "stream",
          "name": "stdout",
          "text": [
            "Grau médio da rede : 14.945945945945946\n"
          ]
        }
      ]
    },
    {
      "cell_type": "code",
      "metadata": {
        "colab": {
          "base_uri": "https://localhost:8080/"
        },
        "id": "MR1JvTx8-ZWO",
        "outputId": "756addd7-1401-4b7a-b04c-3b940ae6dcb4"
      },
      "source": [
        "print('Densidade do grafo G:'\n",
        "      , nx.density(Grafo_temporada8))"
      ],
      "execution_count": null,
      "outputs": [
        {
          "output_type": "stream",
          "name": "stdout",
          "text": [
            "Densidade do grafo G: 0.20473898556090336\n"
          ]
        }
      ]
    },
    {
      "cell_type": "code",
      "metadata": {
        "colab": {
          "base_uri": "https://localhost:8080/"
        },
        "id": "qaxImWvD-ZRX",
        "outputId": "a333e4ae-3ea8-42de-a683-eb391ff59b87"
      },
      "source": [
        "print('Transitividade do grafo G:'\n",
        "       , nx.transitivity(Grafo_temporada8))"
      ],
      "execution_count": null,
      "outputs": [
        {
          "output_type": "stream",
          "name": "stdout",
          "text": [
            "Transitividade do grafo G: 0.6441837028505615\n"
          ]
        }
      ]
    },
    {
      "cell_type": "markdown",
      "metadata": {
        "id": "15rpAOWO4ele"
      },
      "source": [
        "#Tarefa 2, temporada 1"
      ]
    },
    {
      "cell_type": "code",
      "metadata": {
        "colab": {
          "base_uri": "https://localhost:8080/"
        },
        "id": "RJ1h9br9uzC_",
        "outputId": "e7566a67-2ebc-4ab1-a2f2-df4dbcd7a4f0"
      },
      "source": [
        "nx.shortest_path(G1, 'ARYA', 'JON')"
      ],
      "execution_count": null,
      "outputs": [
        {
          "output_type": "execute_result",
          "data": {
            "text/plain": [
              "['ARYA', 'JON']"
            ]
          },
          "metadata": {},
          "execution_count": 488
        }
      ]
    },
    {
      "cell_type": "code",
      "metadata": {
        "colab": {
          "base_uri": "https://localhost:8080/"
        },
        "id": "r68WZpBu7IAl",
        "outputId": "b17e9108-0387-4e25-9afc-7679d4270091"
      },
      "source": [
        "nx.shortest_path_length(G1, 'ARYA', 'JON')"
      ],
      "execution_count": null,
      "outputs": [
        {
          "output_type": "execute_result",
          "data": {
            "text/plain": [
              "1"
            ]
          },
          "metadata": {},
          "execution_count": 489
        }
      ]
    },
    {
      "cell_type": "markdown",
      "metadata": {
        "id": "yJPTUTOsN2AZ"
      },
      "source": [
        "#Tarefa 2, temporada 8"
      ]
    },
    {
      "cell_type": "code",
      "metadata": {
        "colab": {
          "base_uri": "https://localhost:8080/"
        },
        "id": "NnIuecDzN6Mu",
        "outputId": "4009f1b7-d341-43e5-9b68-042064c49378"
      },
      "source": [
        "nx.shortest_path(G1, 'ARYA', 'SAM')"
      ],
      "execution_count": null,
      "outputs": [
        {
          "output_type": "execute_result",
          "data": {
            "text/plain": [
              "['ARYA', 'JON', 'SAM']"
            ]
          },
          "metadata": {},
          "execution_count": 484
        }
      ]
    },
    {
      "cell_type": "code",
      "metadata": {
        "colab": {
          "base_uri": "https://localhost:8080/"
        },
        "id": "N5rhb3Bcu8SP",
        "outputId": "224a8d4a-8682-4110-d381-7ff4d26706ea"
      },
      "source": [
        "nx.shortest_path_length(G1, 'ARYA', 'SAM')"
      ],
      "execution_count": null,
      "outputs": [
        {
          "output_type": "execute_result",
          "data": {
            "text/plain": [
              "2"
            ]
          },
          "metadata": {},
          "execution_count": 485
        }
      ]
    },
    {
      "cell_type": "markdown",
      "metadata": {
        "id": "-u-3htVnfPVz"
      },
      "source": [
        "#Tarefa 3, temporada 1"
      ]
    },
    {
      "cell_type": "code",
      "metadata": {
        "id": "tIEXDK3mfTQy"
      },
      "source": [
        "intermediacao = nx.betweenness_centrality(G1)\n",
        "proximidade = nx.closeness_centrality(G1)\n",
        "autovetor = nx.eigenvector_centrality(G1)"
      ],
      "execution_count": null,
      "outputs": []
    },
    {
      "cell_type": "code",
      "metadata": {
        "id": "1WqWd3wOfTsI"
      },
      "source": [
        "intermediacao = list(intermediacao.values())\n",
        "proximidade = list(proximidade.values())\n",
        "autovetor = list(autovetor.values())"
      ],
      "execution_count": null,
      "outputs": []
    },
    {
      "cell_type": "code",
      "metadata": {
        "colab": {
          "base_uri": "https://localhost:8080/"
        },
        "id": "NvcwWohjfTpu",
        "outputId": "cab8ceb1-9f4e-497c-80c3-dee5ee854572"
      },
      "source": [
        "maior_intermediacao = heapq.nlargest(3,intermediacao) \n",
        "\n",
        "print(maior_intermediacao)"
      ],
      "execution_count": null,
      "outputs": [
        {
          "output_type": "stream",
          "name": "stdout",
          "text": [
            "[0.3032802081478768, 0.16302743524270866, 0.11828405295282027]\n"
          ]
        }
      ]
    },
    {
      "cell_type": "code",
      "metadata": {
        "colab": {
          "base_uri": "https://localhost:8080/"
        },
        "id": "XQ2ioNhpfTn6",
        "outputId": "594fe176-0482-47ea-8e65-d7eb04987bdf"
      },
      "source": [
        "maior_proximidade = heapq.nlargest(3,proximidade) \n",
        "\n",
        "print(maior_proximidade)"
      ],
      "execution_count": null,
      "outputs": [
        {
          "output_type": "stream",
          "name": "stdout",
          "text": [
            "[0.628140703517588, 0.5530973451327433, 0.5506607929515418]\n"
          ]
        }
      ]
    },
    {
      "cell_type": "code",
      "metadata": {
        "colab": {
          "base_uri": "https://localhost:8080/"
        },
        "id": "y-ziIYcHfTks",
        "outputId": "d7951f86-6162-4631-bab5-5728de647df1"
      },
      "source": [
        "maior_autovetor = heapq.nlargest(3,autovetor)\n",
        "\n",
        "print(maior_autovetor)"
      ],
      "execution_count": null,
      "outputs": [
        {
          "output_type": "stream",
          "name": "stdout",
          "text": [
            "[0.3150820196903641, 0.2481899669033885, 0.23926199958075803]\n"
          ]
        }
      ]
    },
    {
      "cell_type": "markdown",
      "metadata": {
        "id": "Vq1ia-s0OvID"
      },
      "source": [
        "#Tarefa 3, temporada 8"
      ]
    },
    {
      "cell_type": "code",
      "metadata": {
        "id": "Fr8dT3K-OyzP"
      },
      "source": [
        "intermediacao = nx.betweenness_centrality(G8)\n",
        "proximidade = nx.closeness_centrality(G8)\n",
        "autovetor = nx.eigenvector_centrality(G8)"
      ],
      "execution_count": null,
      "outputs": []
    },
    {
      "cell_type": "code",
      "metadata": {
        "id": "reE-a2yiOzd9"
      },
      "source": [
        "intermediacao = list(intermediacao.values())\n",
        "proximidade = list(proximidade.values())\n",
        "autovetor = list(autovetor.values())"
      ],
      "execution_count": null,
      "outputs": []
    },
    {
      "cell_type": "code",
      "metadata": {
        "colab": {
          "base_uri": "https://localhost:8080/"
        },
        "id": "4Z03jM4kOzWO",
        "outputId": "52a2a8f7-ac72-4194-bde1-cb55f40aa158"
      },
      "source": [
        "maior_intermediacao = heapq.nlargest(3,intermediacao) \n",
        "\n",
        "print(maior_intermediacao)"
      ],
      "execution_count": null,
      "outputs": [
        {
          "output_type": "stream",
          "name": "stdout",
          "text": [
            "[0.13390159981644, 0.09913291196077363, 0.09902087596468986]\n"
          ]
        }
      ]
    },
    {
      "cell_type": "code",
      "metadata": {
        "colab": {
          "base_uri": "https://localhost:8080/"
        },
        "id": "0IbJ1xGvOzIX",
        "outputId": "e9a7477a-a779-430c-ac93-f333db490e22"
      },
      "source": [
        "maior_proximidade = heapq.nlargest(3,proximidade) \n",
        "\n",
        "print(maior_proximidade)"
      ],
      "execution_count": null,
      "outputs": [
        {
          "output_type": "stream",
          "name": "stdout",
          "text": [
            "[0.6770077894171367, 0.670434898257747, 0.670434898257747]\n"
          ]
        }
      ]
    },
    {
      "cell_type": "code",
      "metadata": {
        "colab": {
          "base_uri": "https://localhost:8080/"
        },
        "id": "6ECHjWGnOzAc",
        "outputId": "0cb498f5-55cc-4f0a-8e5c-34645d3d38b8"
      },
      "source": [
        "maior_autovetor = heapq.nlargest(3,autovetor) \n",
        "\n",
        "print(maior_autovetor)"
      ],
      "execution_count": null,
      "outputs": [
        {
          "output_type": "stream",
          "name": "stdout",
          "text": [
            "[0.21789621436284165, 0.21715160565017622, 0.2158125126175413]\n"
          ]
        }
      ]
    },
    {
      "cell_type": "markdown",
      "metadata": {
        "id": "u55yCS3EWl2Y"
      },
      "source": [
        "#Tarefa 4, temporada 1"
      ]
    },
    {
      "cell_type": "code",
      "metadata": {
        "colab": {
          "base_uri": "https://localhost:8080/"
        },
        "id": "Jr19FokzWpxL",
        "outputId": "1ce69e61-57e1-4cc7-a456-c501ba5d5774"
      },
      "source": [
        "G1.edges(\"ARYA\")"
      ],
      "execution_count": null,
      "outputs": [
        {
          "output_type": "execute_result",
          "data": {
            "text/plain": [
              "EdgeDataView([('ARYA', 'NED'), ('ARYA', 'SANSA'), ('ARYA', 'SYRIO_FOREL'), ('ARYA', 'JOFFREY'), ('ARYA', 'JON'), ('ARYA', 'YOREN'), ('ARYA', 'SEPTA_MORDANE'), ('ARYA', 'ROBERT'), ('ARYA', 'CERSEI'), ('ARYA', 'CATELYN'), ('ARYA', 'GENDRY'), ('ARYA', 'HOUND'), ('ARYA', 'JORY_CASSEL'), ('ARYA', 'STABLE_BOY'), ('ARYA', 'VARYS'), ('ARYA', 'ROBB'), ('ARYA', 'BAELOR'), ('ARYA', 'BRAN'), ('ARYA', 'HOT_PIE'), ('ARYA', 'LITTLEFINGER'), ('ARYA', 'MERYN_TRANT'), ('ARYA', 'MYCAH'), ('ARYA', 'ILYN_PAYNE'), ('ARYA', 'JAIME'), ('ARYA', 'PYCELLE'), ('ARYA', 'ILLYRIO'), ('ARYA', 'LOMMY_GREENHANDS'), ('ARYA', 'TYRION')])"
            ]
          },
          "metadata": {},
          "execution_count": 456
        }
      ]
    },
    {
      "cell_type": "code",
      "metadata": {
        "colab": {
          "base_uri": "https://localhost:8080/"
        },
        "id": "R1n2R5V22fUi",
        "outputId": "004d5751-101d-43ba-aea8-3cd0de4eea88"
      },
      "source": [
        "G1.has_edge('ARYA', 'SAM')"
      ],
      "execution_count": null,
      "outputs": [
        {
          "output_type": "execute_result",
          "data": {
            "text/plain": [
              "False"
            ]
          },
          "metadata": {},
          "execution_count": 457
        }
      ]
    },
    {
      "cell_type": "code",
      "metadata": {
        "colab": {
          "base_uri": "https://localhost:8080/"
        },
        "id": "2wIb9a3F3K0q",
        "outputId": "1feea0e8-8fdd-4b79-ad20-3c7baa903c6a"
      },
      "source": [
        "nx.shortest_path_length(G1, 'ARYA', 'SAM')"
      ],
      "execution_count": null,
      "outputs": [
        {
          "output_type": "execute_result",
          "data": {
            "text/plain": [
              "2"
            ]
          },
          "metadata": {},
          "execution_count": 458
        }
      ]
    },
    {
      "cell_type": "code",
      "metadata": {
        "colab": {
          "base_uri": "https://localhost:8080/"
        },
        "id": "YqG-Jo2Q3gnu",
        "outputId": "3bd3bca5-5a85-492a-dd5d-2c5a975353bc"
      },
      "source": [
        "nx.shortest_path(G1, 'ARYA', 'SAM')"
      ],
      "execution_count": null,
      "outputs": [
        {
          "output_type": "execute_result",
          "data": {
            "text/plain": [
              "['ARYA', 'JON', 'SAM']"
            ]
          },
          "metadata": {},
          "execution_count": 459
        }
      ]
    },
    {
      "cell_type": "code",
      "metadata": {
        "id": "KdoOpWcVWpoo"
      },
      "source": [
        "conexoes_ausentes = [('ARYA', 'SAM')]"
      ],
      "execution_count": null,
      "outputs": []
    },
    {
      "cell_type": "code",
      "metadata": {
        "colab": {
          "base_uri": "https://localhost:8080/"
        },
        "id": "NF5GSzdrWphK",
        "outputId": "4536c1b9-cb32-4359-b39f-6818cffb3be4"
      },
      "source": [
        "predicao_ausentes = link_prediction.jaccard_coefficient(G1,conexoes_ausentes)\n",
        "\n",
        "for u,v,p in predicao_ausentes:\n",
        "  print(u,v,p)"
      ],
      "execution_count": null,
      "outputs": [
        {
          "output_type": "stream",
          "name": "stdout",
          "text": [
            "ARYA SAM 0.02564102564102564\n"
          ]
        }
      ]
    },
    {
      "cell_type": "markdown",
      "metadata": {
        "id": "VJX8P1eEzQy8"
      },
      "source": [
        "#Tarefa 4, temporada 8"
      ]
    },
    {
      "cell_type": "code",
      "metadata": {
        "colab": {
          "base_uri": "https://localhost:8080/"
        },
        "id": "9-IvtWXozVUC",
        "outputId": "34c223d6-10bb-4830-b36c-3ad3384da2c3"
      },
      "source": [
        "G8.edges(\"ARYA\")"
      ],
      "execution_count": null,
      "outputs": [
        {
          "output_type": "execute_result",
          "data": {
            "text/plain": [
              "EdgeDataView([('ARYA', 'GENDRY'), ('ARYA', 'JON'), ('ARYA', 'HOUND'), ('ARYA', 'SANSA'), ('ARYA', 'DAVOS'), ('ARYA', 'NORA'), ('ARYA', 'BRAN'), ('ARYA', 'DAENERYS'), ('ARYA', 'BERIC'), ('ARYA', 'VICKY'), ('ARYA', 'GREY_WORM'), ('ARYA', 'MELISANDRE'), ('ARYA', 'TYRION'), ('ARYA', 'SAM'), ('ARYA', 'TORMUND'), ('ARYA', 'VARYS'), ('ARYA', 'BRIENNE'), ('ARYA', 'CERSEI'), ('ARYA', 'JORAH'), ('ARYA', 'MISSANDEI'), ('ARYA', 'LYANNA_MORMONT'), ('ARYA', 'MAESTER_WOLKAN'), ('ARYA', 'OWEN'), ('ARYA', 'QHONO'), ('ARYA', 'THEON'), ('ARYA', 'YOHN_ROYCE'), ('ARYA', 'ALYS'), ('ARYA', 'JAIME'), ('ARYA', 'NIGHT_KING'), ('ARYA', 'YARA'), ('ARYA', 'DORNISH_PRINCE'), ('ARYA', 'EDDISON_TOLLETT'), ('ARYA', 'EDMURE'), ('ARYA', 'IRONBORN_LORD'), ('ARYA', 'MOUNTAIN'), ('ARYA', 'PODRICK'), ('ARYA', 'RIVERLANDS_LORD'), ('ARYA', 'ROBIN'), ('ARYA', 'VALE_LORD')])"
            ]
          },
          "metadata": {},
          "execution_count": 462
        }
      ]
    },
    {
      "cell_type": "code",
      "metadata": {
        "colab": {
          "base_uri": "https://localhost:8080/"
        },
        "id": "trAauSj494yU",
        "outputId": "0cb9a02f-1621-46ba-eb4e-c810df0280b2"
      },
      "source": [
        "G8.has_edge('ARYA', 'SAM')"
      ],
      "execution_count": null,
      "outputs": [
        {
          "output_type": "execute_result",
          "data": {
            "text/plain": [
              "True"
            ]
          },
          "metadata": {},
          "execution_count": 463
        }
      ]
    },
    {
      "cell_type": "code",
      "metadata": {
        "colab": {
          "base_uri": "https://localhost:8080/"
        },
        "id": "MktaMCAd99QA",
        "outputId": "07ee78ea-c2d1-47b1-fef8-a121496efa54"
      },
      "source": [
        "nx.shortest_path_length(G8, 'ARYA', 'SAM')"
      ],
      "execution_count": null,
      "outputs": [
        {
          "output_type": "execute_result",
          "data": {
            "text/plain": [
              "1"
            ]
          },
          "metadata": {},
          "execution_count": 464
        }
      ]
    },
    {
      "cell_type": "code",
      "metadata": {
        "colab": {
          "base_uri": "https://localhost:8080/"
        },
        "id": "pgTjfdVc94oH",
        "outputId": "a5ae4bc6-feee-48c2-e329-0d39f5e2e500"
      },
      "source": [
        "nx.shortest_path(G8, 'ARYA', 'SAM')"
      ],
      "execution_count": null,
      "outputs": [
        {
          "output_type": "execute_result",
          "data": {
            "text/plain": [
              "['ARYA', 'SAM']"
            ]
          },
          "metadata": {},
          "execution_count": 465
        }
      ]
    },
    {
      "cell_type": "code",
      "metadata": {
        "id": "bW9etT1AzVKq"
      },
      "source": [
        "conexoes_presentes = [('ARYA', 'SAM')]"
      ],
      "execution_count": null,
      "outputs": []
    },
    {
      "cell_type": "code",
      "metadata": {
        "colab": {
          "base_uri": "https://localhost:8080/"
        },
        "id": "1HheaPNdzVD-",
        "outputId": "0642ec0d-ae1d-4d19-dbed-664bafad8832"
      },
      "source": [
        "predicao_presentes = link_prediction.jaccard_coefficient(G8,conexoes_presentes)\n",
        "\n",
        "for u,v,p in predicao_presentes:\n",
        "  print(u,v,p)"
      ],
      "execution_count": null,
      "outputs": [
        {
          "output_type": "stream",
          "name": "stdout",
          "text": [
            "ARYA SAM 0.62\n"
          ]
        }
      ]
    },
    {
      "cell_type": "markdown",
      "metadata": {
        "id": "8HO1CIAn_pNJ"
      },
      "source": [
        "#Tarefa 5, temporada 1"
      ]
    },
    {
      "cell_type": "code",
      "metadata": {
        "id": "YE9vBJf0_tz3"
      },
      "source": [
        "comunidade1 = algorithms.girvan_newman(G1, level=1)\n",
        "viz.plot_network_clusters(G1, comunidade1, pos1, figsize =(17,11))"
      ],
      "execution_count": null,
      "outputs": []
    },
    {
      "cell_type": "markdown",
      "metadata": {
        "id": "Euuvz2G_SW4j"
      },
      "source": [
        "#Tarefa 5, temporada 8"
      ]
    },
    {
      "cell_type": "code",
      "metadata": {
        "id": "FFTvuronSa4y"
      },
      "source": [
        "comunidade2 = algorithms.girvan_newman(G2, level=1)\n",
        "viz.plot_network_clusters(G8, comunidade1, pos2, figsize =(17,11))"
      ],
      "execution_count": null,
      "outputs": []
    }
  ]
}